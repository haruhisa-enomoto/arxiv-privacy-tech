{
 "cells": [
  {
   "cell_type": "code",
   "execution_count": 3,
   "metadata": {},
   "outputs": [
    {
     "data": {
      "text/plain": [
       "2"
      ]
     },
     "execution_count": 3,
     "metadata": {},
     "output_type": "execute_result"
    }
   ],
   "source": [
    "1 + 1"
   ]
  },
  {
   "cell_type": "code",
   "execution_count": 11,
   "metadata": {},
   "outputs": [
    {
     "ename": "TypeError",
     "evalue": "Object of type datetime is not JSON serializable",
     "output_type": "error",
     "traceback": [
      "\u001b[1;31m---------------------------------------------------------------------------\u001b[0m",
      "\u001b[1;31mTypeError\u001b[0m                                 Traceback (most recent call last)",
      "Cell \u001b[1;32mIn[11], line 4\u001b[0m\n\u001b[0;32m      1\u001b[0m \u001b[38;5;28;01mimport\u001b[39;00m \u001b[38;5;21;01mdatetime\u001b[39;00m \u001b[38;5;28;01mas\u001b[39;00m \u001b[38;5;21;01mdt\u001b[39;00m\n\u001b[0;32m      2\u001b[0m \u001b[38;5;28;01mimport\u001b[39;00m \u001b[38;5;21;01mjson\u001b[39;00m\n\u001b[1;32m----> 4\u001b[0m \u001b[43mjson\u001b[49m\u001b[38;5;241;43m.\u001b[39;49m\u001b[43mdumps\u001b[49m\u001b[43m(\u001b[49m\u001b[43m{\u001b[49m\u001b[38;5;124;43m'\u001b[39;49m\u001b[38;5;124;43mdate\u001b[39;49m\u001b[38;5;124;43m'\u001b[39;49m\u001b[43m:\u001b[49m\u001b[43m \u001b[49m\u001b[43mdt\u001b[49m\u001b[38;5;241;43m.\u001b[39;49m\u001b[43mdatetime\u001b[49m\u001b[38;5;241;43m.\u001b[39;49m\u001b[43mnow\u001b[49m\u001b[43m(\u001b[49m\u001b[43m)\u001b[49m\u001b[43m}\u001b[49m\u001b[43m)\u001b[49m\n",
      "File \u001b[1;32mc:\\Users\\daken\\AppData\\Local\\Programs\\Python\\Python310\\lib\\json\\__init__.py:231\u001b[0m, in \u001b[0;36mdumps\u001b[1;34m(obj, skipkeys, ensure_ascii, check_circular, allow_nan, cls, indent, separators, default, sort_keys, **kw)\u001b[0m\n\u001b[0;32m    226\u001b[0m \u001b[38;5;66;03m# cached encoder\u001b[39;00m\n\u001b[0;32m    227\u001b[0m \u001b[38;5;28;01mif\u001b[39;00m (\u001b[38;5;129;01mnot\u001b[39;00m skipkeys \u001b[38;5;129;01mand\u001b[39;00m ensure_ascii \u001b[38;5;129;01mand\u001b[39;00m\n\u001b[0;32m    228\u001b[0m     check_circular \u001b[38;5;129;01mand\u001b[39;00m allow_nan \u001b[38;5;129;01mand\u001b[39;00m\n\u001b[0;32m    229\u001b[0m     \u001b[38;5;28mcls\u001b[39m \u001b[38;5;129;01mis\u001b[39;00m \u001b[38;5;28;01mNone\u001b[39;00m \u001b[38;5;129;01mand\u001b[39;00m indent \u001b[38;5;129;01mis\u001b[39;00m \u001b[38;5;28;01mNone\u001b[39;00m \u001b[38;5;129;01mand\u001b[39;00m separators \u001b[38;5;129;01mis\u001b[39;00m \u001b[38;5;28;01mNone\u001b[39;00m \u001b[38;5;129;01mand\u001b[39;00m\n\u001b[0;32m    230\u001b[0m     default \u001b[38;5;129;01mis\u001b[39;00m \u001b[38;5;28;01mNone\u001b[39;00m \u001b[38;5;129;01mand\u001b[39;00m \u001b[38;5;129;01mnot\u001b[39;00m sort_keys \u001b[38;5;129;01mand\u001b[39;00m \u001b[38;5;129;01mnot\u001b[39;00m kw):\n\u001b[1;32m--> 231\u001b[0m     \u001b[38;5;28;01mreturn\u001b[39;00m \u001b[43m_default_encoder\u001b[49m\u001b[38;5;241;43m.\u001b[39;49m\u001b[43mencode\u001b[49m\u001b[43m(\u001b[49m\u001b[43mobj\u001b[49m\u001b[43m)\u001b[49m\n\u001b[0;32m    232\u001b[0m \u001b[38;5;28;01mif\u001b[39;00m \u001b[38;5;28mcls\u001b[39m \u001b[38;5;129;01mis\u001b[39;00m \u001b[38;5;28;01mNone\u001b[39;00m:\n\u001b[0;32m    233\u001b[0m     \u001b[38;5;28mcls\u001b[39m \u001b[38;5;241m=\u001b[39m JSONEncoder\n",
      "File \u001b[1;32mc:\\Users\\daken\\AppData\\Local\\Programs\\Python\\Python310\\lib\\json\\encoder.py:199\u001b[0m, in \u001b[0;36mJSONEncoder.encode\u001b[1;34m(self, o)\u001b[0m\n\u001b[0;32m    195\u001b[0m         \u001b[38;5;28;01mreturn\u001b[39;00m encode_basestring(o)\n\u001b[0;32m    196\u001b[0m \u001b[38;5;66;03m# This doesn't pass the iterator directly to ''.join() because the\u001b[39;00m\n\u001b[0;32m    197\u001b[0m \u001b[38;5;66;03m# exceptions aren't as detailed.  The list call should be roughly\u001b[39;00m\n\u001b[0;32m    198\u001b[0m \u001b[38;5;66;03m# equivalent to the PySequence_Fast that ''.join() would do.\u001b[39;00m\n\u001b[1;32m--> 199\u001b[0m chunks \u001b[38;5;241m=\u001b[39m \u001b[38;5;28;43mself\u001b[39;49m\u001b[38;5;241;43m.\u001b[39;49m\u001b[43miterencode\u001b[49m\u001b[43m(\u001b[49m\u001b[43mo\u001b[49m\u001b[43m,\u001b[49m\u001b[43m \u001b[49m\u001b[43m_one_shot\u001b[49m\u001b[38;5;241;43m=\u001b[39;49m\u001b[38;5;28;43;01mTrue\u001b[39;49;00m\u001b[43m)\u001b[49m\n\u001b[0;32m    200\u001b[0m \u001b[38;5;28;01mif\u001b[39;00m \u001b[38;5;129;01mnot\u001b[39;00m \u001b[38;5;28misinstance\u001b[39m(chunks, (\u001b[38;5;28mlist\u001b[39m, \u001b[38;5;28mtuple\u001b[39m)):\n\u001b[0;32m    201\u001b[0m     chunks \u001b[38;5;241m=\u001b[39m \u001b[38;5;28mlist\u001b[39m(chunks)\n",
      "File \u001b[1;32mc:\\Users\\daken\\AppData\\Local\\Programs\\Python\\Python310\\lib\\json\\encoder.py:257\u001b[0m, in \u001b[0;36mJSONEncoder.iterencode\u001b[1;34m(self, o, _one_shot)\u001b[0m\n\u001b[0;32m    252\u001b[0m \u001b[38;5;28;01melse\u001b[39;00m:\n\u001b[0;32m    253\u001b[0m     _iterencode \u001b[38;5;241m=\u001b[39m _make_iterencode(\n\u001b[0;32m    254\u001b[0m         markers, \u001b[38;5;28mself\u001b[39m\u001b[38;5;241m.\u001b[39mdefault, _encoder, \u001b[38;5;28mself\u001b[39m\u001b[38;5;241m.\u001b[39mindent, floatstr,\n\u001b[0;32m    255\u001b[0m         \u001b[38;5;28mself\u001b[39m\u001b[38;5;241m.\u001b[39mkey_separator, \u001b[38;5;28mself\u001b[39m\u001b[38;5;241m.\u001b[39mitem_separator, \u001b[38;5;28mself\u001b[39m\u001b[38;5;241m.\u001b[39msort_keys,\n\u001b[0;32m    256\u001b[0m         \u001b[38;5;28mself\u001b[39m\u001b[38;5;241m.\u001b[39mskipkeys, _one_shot)\n\u001b[1;32m--> 257\u001b[0m \u001b[38;5;28;01mreturn\u001b[39;00m \u001b[43m_iterencode\u001b[49m\u001b[43m(\u001b[49m\u001b[43mo\u001b[49m\u001b[43m,\u001b[49m\u001b[43m \u001b[49m\u001b[38;5;241;43m0\u001b[39;49m\u001b[43m)\u001b[49m\n",
      "File \u001b[1;32mc:\\Users\\daken\\AppData\\Local\\Programs\\Python\\Python310\\lib\\json\\encoder.py:179\u001b[0m, in \u001b[0;36mJSONEncoder.default\u001b[1;34m(self, o)\u001b[0m\n\u001b[0;32m    160\u001b[0m \u001b[38;5;28;01mdef\u001b[39;00m \u001b[38;5;21mdefault\u001b[39m(\u001b[38;5;28mself\u001b[39m, o):\n\u001b[0;32m    161\u001b[0m \u001b[38;5;250m    \u001b[39m\u001b[38;5;124;03m\"\"\"Implement this method in a subclass such that it returns\u001b[39;00m\n\u001b[0;32m    162\u001b[0m \u001b[38;5;124;03m    a serializable object for ``o``, or calls the base implementation\u001b[39;00m\n\u001b[0;32m    163\u001b[0m \u001b[38;5;124;03m    (to raise a ``TypeError``).\u001b[39;00m\n\u001b[1;32m   (...)\u001b[0m\n\u001b[0;32m    177\u001b[0m \n\u001b[0;32m    178\u001b[0m \u001b[38;5;124;03m    \"\"\"\u001b[39;00m\n\u001b[1;32m--> 179\u001b[0m     \u001b[38;5;28;01mraise\u001b[39;00m \u001b[38;5;167;01mTypeError\u001b[39;00m(\u001b[38;5;124mf\u001b[39m\u001b[38;5;124m'\u001b[39m\u001b[38;5;124mObject of type \u001b[39m\u001b[38;5;132;01m{\u001b[39;00mo\u001b[38;5;241m.\u001b[39m\u001b[38;5;18m__class__\u001b[39m\u001b[38;5;241m.\u001b[39m\u001b[38;5;18m__name__\u001b[39m\u001b[38;5;132;01m}\u001b[39;00m\u001b[38;5;124m \u001b[39m\u001b[38;5;124m'\u001b[39m\n\u001b[0;32m    180\u001b[0m                     \u001b[38;5;124mf\u001b[39m\u001b[38;5;124m'\u001b[39m\u001b[38;5;124mis not JSON serializable\u001b[39m\u001b[38;5;124m'\u001b[39m)\n",
      "\u001b[1;31mTypeError\u001b[0m: Object of type datetime is not JSON serializable"
     ]
    }
   ],
   "source": [
    "import datetime as dt\n",
    "import json\n",
    "\n",
    "json.dumps({'date': dt.datetime.now()})"
   ]
  },
  {
   "cell_type": "code",
   "execution_count": 14,
   "metadata": {},
   "outputs": [],
   "source": [
    "import arxiv\n",
    "\n",
    "client = arxiv.Client()\n",
    "search = arxiv.Search(\n",
    "    query='abs:\"federated learning\"',\n",
    "    max_results=3,\n",
    ")\n",
    "\n",
    "results = client.results(search)"
   ]
  },
  {
   "cell_type": "code",
   "execution_count": 16,
   "metadata": {},
   "outputs": [],
   "source": [
    "result_list = list(results)"
   ]
  },
  {
   "cell_type": "code",
   "execution_count": 21,
   "metadata": {},
   "outputs": [
    {
     "data": {
      "text/plain": [
       "'2024-02-01T05:13:14+00:00'"
      ]
     },
     "execution_count": 21,
     "metadata": {},
     "output_type": "execute_result"
    }
   ],
   "source": [
    "result_list[0].published.isoformat()"
   ]
  },
  {
   "cell_type": "code",
   "execution_count": 24,
   "metadata": {},
   "outputs": [
    {
     "name": "stdout",
     "output_type": "stream",
     "text": [
      "Updated: MiniCheck: Efficient Fact-Checking of LLMs on Grounding Documents: 2024-04-16T17:59:10+00:00\n",
      "Updated: Confidential Federated Computations: 2024-04-16T17:47:27+00:00\n",
      "Updated: Randomized Exploration in Cooperative Multi-Agent Reinforcement Learning: 2024-04-16T17:01:38+00:00\n",
      "Updated: Efficient Parking Search using Shared Fleet Data: 2024-04-16T15:20:28+00:00\n",
      "Updated: ReWiTe: Realistic Wide-angle and Telephoto Dual Camera Fusion Dataset via Beam Splitter Camera Rig: 2024-04-16T14:10:42+00:00\n",
      "Updated: A Phone-based Distributed Ambient Temperature Measurement System with An Efficient Label-free Automated Training Strategy: 2024-04-16T09:03:13+00:00\n",
      "Updated: Second Edition FRCSyn Challenge at CVPR 2024: Face Recognition Challenge in the Era of Synthetic Data: 2024-04-16T08:15:10+00:00\n",
      "Updated: Privacy-Preserving Training-as-a-Service for On-Device Intelligence: Concept, Architectural Scheme, and Open Problems: 2024-04-16T03:18:27+00:00\n",
      "Updated: Multi-objective evolutionary GAN for tabular data synthesis: 2024-04-15T23:07:57+00:00\n",
      "Updated: High-Resolution Detection of Earth Structural Heterogeneities from Seismic Amplitudes using Convolutional Neural Networks with Attention layers: 2024-04-15T22:49:37+00:00\n",
      "Updated: Communication-Efficient Hybrid Federated Learning for E-health with Horizontal and Vertical Data Partitioning: 2024-04-15T19:45:07+00:00\n",
      "Updated: Synthetic Census Data Generation via Multidimensional Multiset Sum: 2024-04-15T19:06:37+00:00\n",
      "Updated: Integration of Federated Learning and Blockchain in Healthcare: A Tutorial: 2024-04-15T19:00:09+00:00\n",
      "Updated: Empowering Federated Learning with Implicit Gossiping: Mitigating Connection Unreliability Amidst Unknown and Arbitrary Dynamics: 2024-04-15T18:58:39+00:00\n",
      "Updated: Zero-shot detection of buildings in mobile LiDAR using Language Vision Model: 2024-04-15T16:56:58+00:00\n",
      "Updated: Accelerating Ensemble Error Bar Prediction with Single Models Fits: 2024-04-15T16:10:27+00:00\n",
      "Updated: Unsupervised Federated Optimization at the Edge: D2D-Enabled Learning without Labels: 2024-04-15T15:17:38+00:00\n",
      "Updated: A Diffusion-based Data Generator for Training Object Recognition Models in Ultra-Range Distance: 2024-04-15T14:55:43+00:00\n",
      "Updated: 3D Face Tracking from 2D Video through Iterative Dense UV to Image Flow: 2024-04-15T14:20:07+00:00\n",
      "Updated: FedP3: Federated Personalized and Privacy-friendly Network Pruning under Model Heterogeneity: 2024-04-15T14:14:05+00:00\n",
      "Updated: The Devil is in the Few Shots: Iterative Visual Knowledge Completion for Few-shot Learning: 2024-04-15T13:30:34+00:00\n",
      "Updated: Federated Learning on Riemannian Manifolds with Differential Privacy: 2024-04-15T12:32:20+00:00\n",
      "Updated: Privacy-Preserving Federated Unlearning with Certified Client Removal: 2024-04-15T12:27:07+00:00\n",
      "Updated: VFLGAN: Vertical Federated Learning-based Generative Adversarial Network for Vertically Partitioned Data Publication: 2024-04-15T12:25:41+00:00\n",
      "Updated: Unveiling Imitation Learning: Exploring the Impact of Data Falsity to Large Language Model: 2024-04-15T12:20:09+00:00\n",
      "Updated: Distributed Federated Learning-Based Deep Learning Model for Privacy MRI Brain Tumor Detection: 2024-04-15T09:07:19+00:00\n",
      "Updated: Beyond Noise: Privacy-Preserving Decentralized Learning with Virtual Nodes: 2024-04-15T07:59:11+00:00\n",
      "Updated: SpamDam: Towards Privacy-Preserving and Adversary-Resistant SMS Spam Detection: 2024-04-15T06:07:10+00:00\n",
      "Updated: Fast randomized algorithms for low-rank matrix approximations with applications in global comparative analysis of a class of data sets: 2024-04-15T04:53:21+00:00\n",
      "Updated: Hybrid FedGraph: An efficient hybrid federated learning algorithm using graph convolutional neural network: 2024-04-15T04:02:39+00:00\n",
      "Updated: On the Efficiency of Privacy Attacks in Federated Learning: 2024-04-15T03:04:37+00:00\n",
      "Updated: ViFu: Multiple 360$^\\circ$ Objects Reconstruction with Clean Background via Visible Part Fusion: 2024-04-15T02:44:23+00:00\n",
      "Updated: An Autoencoder-Based Constellation Design for AirComp in Wireless Federated Learning: 2024-04-15T00:25:12+00:00\n",
      "Updated: Privacy at a Price: Exploring its Dual Impact on AI Fairness: 2024-04-15T00:23:41+00:00\n",
      "Updated: Adversarial Robustness Limits via Scaling-Law and Human-Alignment Studies: 2024-04-14T20:14:38+00:00\n",
      "Updated: Bridging Data Islands: Geographic Heterogeneity-Aware Federated Learning for Collaborative Remote Sensing Semantic Segmentation: 2024-04-14T15:58:35+00:00\n",
      "Updated: FedCCL: Federated Dual-Clustered Feature Contrast Under Domain Heterogeneity: 2024-04-14T13:56:30+00:00\n",
      "Updated: MAP: Model Aggregation and Personalization in Federated Learning with Incomplete Classes: 2024-04-14T12:22:42+00:00\n",
      "Updated: FedDistill: Global Model Distillation for Local Model De-Biasing in Non-IID Federated Learning: 2024-04-14T10:23:30+00:00\n",
      "Updated: GeMQuAD : Generating Multilingual Question Answering Datasets from Large Language Models using Few Shot Learning: 2024-04-14T06:55:42+00:00\n",
      "Updated: Exploring Generative AI for Sim2Real in Driving Data Synthesis: 2024-04-14T01:23:19+00:00\n",
      "Updated: PraFFL: A Preference-Aware Scheme in Fair Federated Learning: 2024-04-13T11:40:05+00:00\n",
      "Updated: Early detection of disease outbreaks and non-outbreaks using incidence data: 2024-04-13T03:57:14+00:00\n",
      "Updated: An evaluation framework for synthetic data generation models: 2024-04-13T01:16:45+00:00\n",
      "Updated: LazyDP: Co-Designing Algorithm-Software for Scalable Training of Differentially Private Recommendation Models: 2024-04-12T23:32:06+00:00\n",
      "Updated: Towards Sim-to-Real Industrial Parts Classification with Synthetic Dataset: 2024-04-12T19:04:59+00:00\n",
      "Updated: Federated Optimization with Doubly Regularized Drift Correction: 2024-04-12T12:57:43+00:00\n",
      "Updated: Anti-Byzantine Attacks Enabled Vehicle Selection for Asynchronous Federated Learning in Vehicular Edge Computing: 2024-04-12T12:56:16+00:00\n",
      "Updated: Communication-Efficient Model Aggregation with Layer Divergence Feedback in Federated Learning: 2024-04-12T08:33:51+00:00\n",
      "Updated: QI-DPFL: Quality-Aware and Incentive-Boosted Federated Learning with Differential Privacy: 2024-04-12T06:18:25+00:00\n",
      "Updated: Differentially Private Log-Location-Scale Regression Using Functional Mechanism: 2024-04-12T04:14:08+00:00\n",
      "Updated: SciFlow: Empowering Lightweight Optical Flow Models with Self-Cleaning Iterations: 2024-04-11T21:41:55+00:00\n",
      "Updated: SQBC: Active Learning using LLM-Generated Synthetic Data for Stance Detection in Online Political Discussions: 2024-04-11T18:34:11+00:00\n",
      "Updated: Self-supervised Dataset Distillation: A Good Compression Is All You Need: 2024-04-11T17:56:40+00:00\n",
      "Updated: A Measurement of Genuine Tor Traces for Realistic Website Fingerprinting: 2024-04-11T16:24:49+00:00\n",
      "Updated: FedAuxHMTL: Federated Auxiliary Hard-Parameter Sharing Multi-Task Learning for Network Edge Traffic Classification: 2024-04-11T16:23:28+00:00\n",
      "Updated: Inferring Change Points in High-Dimensional Linear Regression via Approximate Message Passing: 2024-04-11T15:57:12+00:00\n",
      "Updated: Generating Synthetic Satellite Imagery With Deep-Learning Text-to-Image Models -- Technical Challenges and Implications for Monitoring and Verification: 2024-04-11T14:00:20+00:00\n",
      "Updated: Generating Comprehensive Lithium Battery Charging Data with Generative AI: 2024-04-11T09:08:45+00:00\n",
      "Updated: Differentially Private Reinforcement Learning with Self-Play: 2024-04-11T08:42:51+00:00\n",
      "Updated: Bayesian Federated Model Compression for Communication and Computation Efficiency: 2024-04-11T07:51:30+00:00\n",
      "Updated: Best Practices and Lessons Learned on Synthetic Data for Language Models: 2024-04-11T06:34:17+00:00\n",
      "Updated: Leveraging Data Augmentation for Process Information Extraction: 2024-04-11T06:32:03+00:00\n",
      "Updated: G-NeRF: Geometry-enhanced Novel View Synthesis from Single-View Images: 2024-04-11T04:58:18+00:00\n",
      "Updated: Enhancing Network Intrusion Detection Performance using Generative Adversarial Networks: 2024-04-11T04:01:15+00:00\n",
      "Updated: Learning Chemotherapy Drug Action via Universal Physics-Informed Neural Networks: 2024-04-11T01:30:05+00:00\n",
      "Updated: ChatGPT Can Predict the Future when it Tells Stories Set in the Future About the Past: 2024-04-11T00:03:03+00:00\n",
      "Updated: Improving Multi-Center Generalizability of GAN-Based Fat Suppression using Federated Learning: 2024-04-10T22:16:20+00:00\n",
      "Updated: Differentially Private GANs for Generating Synthetic Indoor Location Data: 2024-04-10T21:43:27+00:00\n",
      "Updated: GANsemble for Small and Imbalanced Data Sets: A Baseline for Synthetic Microplastics Data: 2024-04-10T21:23:13+00:00\n",
      "Updated: Indoor Location Fingerprinting Privacy: A Comprehensive Survey: 2024-04-10T21:02:58+00:00\n",
      "Updated: What needs to go right for an induction head? A mechanistic study of in-context learning circuits and their formation: 2024-04-10T16:07:38+00:00\n",
      "Updated: Private Wasserstein Distance with Random Noises: 2024-04-10T06:58:58+00:00\n",
      "Updated: Responsible Federated Learning in Smart Transportation: Outlooks and Challenges: 2024-04-10T06:36:48+00:00\n",
      "Updated: Logit Calibration and Feature Contrast for Robust Federated Learning on Non-IID Data: 2024-04-10T06:35:25+00:00\n",
      "Updated: Poisoning Prevention in Federated Learning and Differential Privacy via Stateful Proofs of Execution: 2024-04-10T04:18:26+00:00\n",
      "Updated: Atlas-X Equity Financing: Unlocking New Methods to Securely Obfuscate Axe Inventory Data Based on Differential Privacy: 2024-04-10T02:19:37+00:00\n",
      "Updated: Federated learning model for predicting major postoperative complications: 2024-04-09T22:31:10+00:00\n",
      "Updated: FMDA-OT: Federated Multi-source Domain Adaptation Through Optimal Transport: 2024-04-09T20:06:25+00:00\n",
      "Updated: Automated Federated Pipeline for Parameter-Efficient Fine-Tuning of Large Language Models: 2024-04-09T16:50:30+00:00\n",
      "Updated: pfl-research: simulation framework for accelerating research in Private Federated Learning: 2024-04-09T16:23:01+00:00\n",
      "Updated: Generative Pre-Trained Transformer for Symbolic Regression Base In-Context Reinforcement Learning: 2024-04-09T14:08:47+00:00\n",
      "Updated: Dynamic D2D-Assisted Federated Learning over O-RAN: Performance Analysis, MAC Scheduler, and Asymmetric User Selection: 2024-04-09T14:03:04+00:00\n",
      "Updated: Hyperparameter-Free Medical Image Synthesis for Sharing Data and Improving Site-Specific Segmentation: 2024-04-09T12:06:21+00:00\n",
      "Updated: Aggressive or Imperceptible, or Both: Network Pruning Assisted Hybrid Byzantines in Federated Learning: 2024-04-09T11:42:32+00:00\n",
      "Updated: Privacy-preserving Scanpath Comparison for Pervasive Eye Tracking: 2024-04-09T11:07:57+00:00\n",
      "Updated: Open-Source AI-based SE Tools: Opportunities and Challenges of Collaborative Software Learning: 2024-04-09T10:47:02+00:00\n",
      "Updated: Differential Privacy for Anomaly Detection: Analyzing the Trade-off Between Privacy and Explainability: 2024-04-09T09:09:36+00:00\n",
      "Updated: FLEX: FLEXible Federated Learning Framework: 2024-04-09T08:51:05+00:00\n",
      "Updated: Feel-Good Thompson Sampling for Contextual Dueling Bandits: 2024-04-09T04:45:18+00:00\n",
      "Updated: CodecLM: Aligning Language Models with Tailored Synthetic Data: 2024-04-08T21:15:36+00:00\n",
      "Updated: Negative Preference Optimization: From Catastrophic Collapse to Effective Unlearning: 2024-04-08T21:05:42+00:00\n",
      "Updated: AlignZeg: Mitigating Objective Misalignment for Zero-shot Semantic Segmentation: 2024-04-08T16:51:33+00:00\n",
      "Updated: SoK: Gradient Leakage in Federated Learning: 2024-04-08T11:05:45+00:00\n",
      "Updated: GPS-free Autonomous Navigation in Cluttered Tree Rows with Deep Semantic Segmentation: 2024-04-08T09:26:31+00:00\n",
      "Updated: Enabling Privacy-Preserving Cyber Threat Detection with Federated Learning: 2024-04-08T01:16:56+00:00\n",
      "Updated: How Bad is Training on Synthetic Data? A Statistical Analysis of Language Model Collapse: 2024-04-07T22:15:13+00:00\n",
      "Updated: PlateSegFL: A Privacy-Preserving License Plate Detection Using Federated Segmentation Learning: 2024-04-07T19:10:02+00:00\n",
      "Updated: A code-driven tutorial on encrypted control: From pioneering realizations to modern implementations: 2024-04-06T20:36:09+00:00\n",
      "Updated: Advances in Differential Privacy and Differentially Private Machine Learning: 2024-04-06T18:49:24+00:00\n",
      "Updated: Vanishing Variance Problem in Fully Decentralized Neural-Network Systems: 2024-04-06T12:49:20+00:00\n",
      "Updated: SDFR: Synthetic Data for Face Recognition Competition: 2024-04-06T10:30:31+00:00\n",
      "Updated: Hyperparameter Optimization for SecureBoost via Constrained Multi-Objective Federated Learning: 2024-04-06T03:46:42+00:00\n",
      "Updated: Prompt Public Large Language Models to Synthesize Data for Private On-device Applications: 2024-04-05T19:14:14+00:00\n",
      "Updated: Precision Guided Approach to Mitigate Data Poisoning Attacks in Federated Learning: 2024-04-05T14:37:49+00:00\n",
      "Updated: You Can Use But Cannot Recognize: Preserving Visual Privacy in Deep Neural Networks: 2024-04-05T13:49:27+00:00\n",
      "Updated: Faraday: Synthetic Smart Meter Generator for the smart grid: 2024-04-05T13:18:10+00:00\n",
      "Updated: From Theory to Comprehension: A Comparative Study of Differential Privacy and $k$-Anonymity: 2024-04-05T10:30:26+00:00\n",
      "Updated: RaSim: A Range-aware High-fidelity RGB-D Data Simulation Pipeline for Real-world Applications: 2024-04-05T08:52:32+00:00\n",
      "Updated: Real-GDSR: Real-World Guided DSM Super-Resolution via Edge-Enhancing Residual Network: 2024-04-05T07:24:10+00:00\n",
      "Updated: PrivShape: Extracting Shapes in Time Series under User-Level Local Differential Privacy: 2024-04-05T03:22:47+00:00\n",
      "Updated: Mitigating Heterogeneity in Federated Multimodal Learning with Biomedical Vision-Language Pre-training: 2024-04-05T01:17:25+00:00\n",
      "Updated: No \"Zero-Shot\" Without Exponential Data: Pretraining Concept Frequency Determines Multimodal Model Performance: 2024-04-04T17:58:02+00:00\n",
      "Updated: If It's Not Enough, Make It So: Reducing Authentic Data Demand in Face Recognition through Synthetic Faces: 2024-04-04T15:45:25+00:00\n",
      "Updated: Approximate Gradient Coding for Privacy-Flexible Federated Learning with Non-IID Data: 2024-04-04T15:29:50+00:00\n",
      "Updated: Privacy-Enhancing Technologies for Artificial Intelligence-Enabled Systems: 2024-04-04T15:14:40+00:00\n",
      "Updated: Knowledge Distillation-Based Model Extraction Attack using Private Counterfactual Explanations: 2024-04-04T10:28:55+00:00\n",
      "Updated: A Comparative Analysis of Word-Level Metric Differential Privacy: Benchmarking The Privacy-Utility Trade-off: 2024-04-04T09:48:14+00:00\n",
      "Updated: Exploring Lightweight Federated Learning for Distributed Load Forecasting: 2024-04-04T09:35:48+00:00\n",
      "Updated: Accurate Low-Degree Polynomial Approximation of Non-polynomial Operators for Fast Private Inference in Homomorphic Encryption: 2024-04-04T05:45:52+00:00\n",
      "Updated: Personalized Federated Learning for Spatio-Temporal Forecasting: A Dual Semantic Alignment-Based Contrastive Approach: 2024-04-04T02:43:56+00:00\n",
      "Updated: Diverse and Tailored Image Generation for Zero-shot Multi-label Classification: 2024-04-04T01:34:36+00:00\n",
      "Updated: Robust Federated Learning for Wireless Networks: A Demonstration with Channel Estimation: 2024-04-03T22:03:28+00:00\n",
      "Updated: Federated Computing -- Survey on Building Blocks, Extensions and Systems: 2024-04-03T14:47:48+00:00\n",
      "Updated: Design2Cloth: 3D Cloth Generation from 2D Masks: 2024-04-03T12:32:13+00:00\n",
      "Updated: QFNN-FFD: Quantum Federated Neural Network for Financial Fraud Detection: 2024-04-03T09:19:46+00:00\n",
      "Updated: Solar synthetic imaging: Introducing denoising diffusion probabilistic models on SDO/AIA data: 2024-04-03T08:18:45+00:00\n",
      "Updated: ANGOFA: Leveraging OFA Embedding Initialization and Synthetic Data for Angolan Language Model: 2024-04-03T07:44:38+00:00\n",
      "Updated: Differentially Private Verification of Survey-Weighted Estimates: 2024-04-03T07:12:18+00:00\n",
      "Updated: An Interpretable Client Decision Tree Aggregation process for Federated Learning: 2024-04-03T06:53:56+00:00\n",
      "Updated: FedSelect: Personalized Federated Learning with Customized Selection of Parameters for Fine-Tuning: 2024-04-03T05:36:21+00:00\n",
      "Updated: A Unified Membership Inference Method for Visual Self-supervised Encoder via Part-aware Capability: 2024-04-03T05:04:55+00:00\n",
      "Updated: Optimal Batch Allocation for Wireless Federated Learning: 2024-04-03T01:42:30+00:00\n",
      "Updated: Robust Constrained Consensus and Inequality-constrained Distributed Optimization with Guaranteed Differential Privacy and Accurate Convergence: 2024-04-02T21:53:43+00:00\n",
      "Updated: Federated Multi-Agent Mapping for Planetary Exploration: 2024-04-02T20:32:32+00:00\n",
      "Updated: A Generative Deep Learning Approach for Crash Severity Modeling with Imbalanced Data: 2024-04-02T16:07:27+00:00\n",
      "Updated: Incentives in Private Collaborative Machine Learning: 2024-04-02T06:28:22+00:00\n",
      "Updated: Collaborative Optimization of Wireless Communication and Computing Resource Allocation based on Multi-Agent Federated Weighting Deep Reinforcement Learning: 2024-04-02T04:53:49+00:00\n",
      "Updated: AAA: an Adaptive Mechanism for Locally Differential Private Mean Estimation: 2024-04-02T04:22:07+00:00\n",
      "Updated: Federated Distillation: A Survey: 2024-04-02T03:42:18+00:00\n",
      "Updated: FAIRM: Learning invariant representations for algorithmic fairness and domain generalization with minimax optimality: 2024-04-02T03:06:25+00:00\n",
      "Updated: Addressing Heterogeneity in Federated Load Forecasting with Personalization Layers: 2024-04-01T22:53:09+00:00\n",
      "Updated: Decentralized Collaborative Learning Framework with External Privacy Leakage Analysis: 2024-04-01T17:46:17+00:00\n",
      "Updated: Open-Vocabulary Federated Learning with Multimodal Prototyping: 2024-04-01T16:51:13+00:00\n",
      "Updated: SoK: A Review of Differentially Private Linear Models For High-Dimensional Data: 2024-04-01T14:38:51+00:00\n",
      "Updated: A comparison of Single- and Double-generator formalisms for Thermodynamics-Informed Neural Networks: 2024-04-01T11:48:03+00:00\n",
      "Updated: Continual Learning for Smart City: A Survey: 2024-04-01T07:59:29+00:00\n",
      "Updated: Do language models plan ahead for future tokens?: 2024-04-01T02:01:28+00:00\n",
      "Updated: Predictive Performance Comparison of Decision Policies Under Confounding: 2024-04-01T01:27:07+00:00\n"
     ]
    }
   ],
   "source": [
    "import arxiv\n",
    "import json\n",
    "from pathlib import Path\n",
    "\n",
    "client = arxiv.Client()\n",
    "# JSONファイルを読み込む\n",
    "file_path = Path(\"_data/papers.json\")\n",
    "new_file = Path(\"_data/papers_new.json\")\n",
    "with file_path.open(\"r\", encoding=\"utf-8\") as file:\n",
    "    data = json.load(file)\n",
    "\n",
    "# arXiv APIを使用してpublished日時を更新\n",
    "for entry in data:\n",
    "    search = arxiv.Search(id_list=[entry[\"url\"].split(\"/\")[-1]])\n",
    "    \n",
    "    paper = next(client.results(search))\n",
    "    entry[\"published\"] = paper.published.isoformat()\n",
    "    print(f\"Updated: {entry['title']}: {entry['published']}\")\n",
    "\n",
    "# 更新されたデータをファイルに書き込む\n",
    "with new_file.open(\"w\", encoding=\"utf-8\") as file:\n",
    "    json.dump(data, file, indent=2)"
   ]
  },
  {
   "cell_type": "code",
   "execution_count": 25,
   "metadata": {},
   "outputs": [],
   "source": [
    "# Change ensure_ascii to False to output UTF-8\n",
    "with new_file.open(\"w\", encoding=\"utf-8\") as file:\n",
    "    json.dump(data, file, indent=2, ensure_ascii=False)"
   ]
  }
 ],
 "metadata": {
  "language_info": {
   "name": "python"
  }
 },
 "nbformat": 4,
 "nbformat_minor": 2
}
